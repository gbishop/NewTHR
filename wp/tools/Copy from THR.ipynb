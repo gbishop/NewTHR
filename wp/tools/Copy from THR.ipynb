{
 "cells": [
  {
   "cell_type": "code",
   "execution_count": 1,
   "metadata": {
    "collapsed": true
   },
   "outputs": [],
   "source": [
    "import requests\n",
    "from requests.auth import HTTPBasicAuth\n",
    "import json"
   ]
  },
  {
   "cell_type": "markdown",
   "metadata": {},
   "source": [
    "## Grab some books from THR"
   ]
  },
  {
   "cell_type": "code",
   "execution_count": 2,
   "metadata": {
    "collapsed": false
   },
   "outputs": [],
   "source": [
    "def getBook(id):\n",
    "    resp = requests.get('http://tarheelreader.org/book-as-json?id=%d' % id)\n",
    "    return resp.json()\n",
    "\n",
    "def findBooks(page):\n",
    "    resp = requests.get('http://tarheelreader.org/find/?json=1&page=%d' % page)\n",
    "    return [book['ID'] for book in resp.json()['books']]\n",
    "\n",
    "books = []\n",
    "for i in range(1, 2):\n",
    "    books.extend([ getBook(i) for i in findBooks(i) ])"
   ]
  },
  {
   "cell_type": "markdown",
   "metadata": {},
   "source": [
    "## Write them to the new instance"
   ]
  },
  {
   "cell_type": "code",
   "execution_count": 8,
   "metadata": {
    "collapsed": false
   },
   "outputs": [],
   "source": [
    "passwd = '2d46 RG2n wzZ2 c4re'\n",
    "userid = 'admin'\n",
    "\n",
    "# 2016-08-04 15:59:38\n",
    "\n",
    "from datetime import datetime\n",
    "from pprint import pprint\n",
    "\n",
    "def createBook(o):\n",
    "    b = {}\n",
    "    b['title'] = o['title']\n",
    "    b['pictures'] = [ page['url'] for page in o['pages'] ]\n",
    "    b['text'] = [ page['text'] for page in o['pages'] ]\n",
    "    b['pseudonym'] = o['author']\n",
    "    b['language'] = o['language']\n",
    "    b['date'] = datetime.strptime(o['created'], \"%Y-%m-%d %H:%M:%S\").isoformat()\n",
    "    b['modified'] = datetime.strptime(o['modified'], \"%Y-%m-%d %H:%M:%S\").isoformat()\n",
    "    b['categories'] = [3]\n",
    "    b['rating_count'] = o['rating_count']\n",
    "    b['rating_sum'] = o['rating_total']\n",
    "    b['reviewed'] = o['reviewed']\n",
    "    b['status'] = 'publish'\n",
    "    b['audience'] = o['audience']\n",
    "    return b\n",
    "    \n",
    "for book in books:\n",
    "    b = createBook(book)\n",
    "    resp = requests.post('http://localhost:8000/wp-json/wp/v2/posts', json=b, \n",
    "                         auth=HTTPBasicAuth(userid, passwd))\n",
    "    "
   ]
  },
  {
   "cell_type": "code",
   "execution_count": 5,
   "metadata": {
    "collapsed": false
   },
   "outputs": [
    {
     "name": "stdout",
     "output_type": "stream",
     "text": [
      "{'categories': [3],\n",
      " 'comment_status': 'closed',\n",
      " 'date': '2016-08-03T15:35:06',\n",
      " 'language': 'en',\n",
      " 'modified': '2016-08-04T15:59:38',\n",
      " 'pictures': ['/cache/images/09/9103287209_67f31d4f71_t.jpg',\n",
      "              '/cache/images/09/9103287209_67f31d4f71.jpg',\n",
      "              '/cache/images/24/43311724_28f21b3ba0.jpg',\n",
      "              '/cache/images/60/6240747460_75e5cc597c.jpg',\n",
      "              '/cache/images/47/104635547_3660490d7f.jpg',\n",
      "              '/cache/images/82/7512299482_9e2282919a.jpg',\n",
      "              '/cache/images/43/9158471643_06485bc8cc.jpg',\n",
      "              '/cache/images/47/5744039447_be22f59fa7.jpg',\n",
      "              '/cache/images/57/5543405357_fdef694614.jpg',\n",
      "              '/cache/images/76/3178812576_6026543dfd.jpg',\n",
      "              '/cache/images/43/6240460843_d16beb35fb.jpg',\n",
      "              '/cache/images/25/3528060125_e66f63a1a4.jpg'],\n",
      " 'ping_status': 'closed',\n",
      " 'pseudonym': 'Mary Hobbs',\n",
      " 'rating_count': 30,\n",
      " 'rating_sum': 66,\n",
      " 'reviewed': True,\n",
      " 'status': 'publish',\n",
      " 'text': ['Horses',\n",
      "          'Horses',\n",
      "          'Horses come in many colors',\n",
      "          'and patterns.',\n",
      "          'Some horses grow thick coats for winter.',\n",
      "          'Some horses are big.',\n",
      "          'Some horses run fast.',\n",
      "          'Some horses jump over fences.',\n",
      "          'Some horses work in big cities.',\n",
      "          'Some horses walk in parades.',\n",
      "          'Some horses like to play.',\n",
      "          'Would you like to have a horse?'],\n",
      " 'title': 'Horses'}\n"
     ]
    }
   ],
   "source": [
    "b = createBook(books[0])\n",
    "pprint(b)"
   ]
  },
  {
   "cell_type": "code",
   "execution_count": null,
   "metadata": {
    "collapsed": true
   },
   "outputs": [],
   "source": []
  }
 ],
 "metadata": {
  "kernelspec": {
   "display_name": "Python 3",
   "language": "python",
   "name": "python3"
  },
  "language_info": {
   "codemirror_mode": {
    "name": "ipython",
    "version": 3
   },
   "file_extension": ".py",
   "mimetype": "text/x-python",
   "name": "python",
   "nbconvert_exporter": "python",
   "pygments_lexer": "ipython3",
   "version": "3.5.2"
  }
 },
 "nbformat": 4,
 "nbformat_minor": 0
}
