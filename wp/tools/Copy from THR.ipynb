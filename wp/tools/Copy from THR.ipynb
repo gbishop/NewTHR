{
 "cells": [
  {
   "cell_type": "code",
   "execution_count": 1,
   "metadata": {
    "collapsed": true
   },
   "outputs": [],
   "source": [
    "import requests\n",
    "from requests.auth import HTTPBasicAuth\n",
    "import json"
   ]
  },
  {
   "cell_type": "code",
   "execution_count": 2,
   "metadata": {
    "collapsed": true
   },
   "outputs": [],
   "source": []
  },
  {
   "cell_type": "markdown",
   "metadata": {},
   "source": [
    "## Grab some books from THR"
   ]
  },
  {
   "cell_type": "code",
   "execution_count": 30,
   "metadata": {
    "collapsed": false
   },
   "outputs": [],
   "source": [
    "def getBook(id):\n",
    "    resp = requests.get('http://tarheelreader.org/book-as-json?id=%d' % id)\n",
    "    return resp.json()\n",
    "\n",
    "def findBooks(page):\n",
    "    resp = requests.get('http://tarheelreader.org/find/?json=1&page=%d' % page)\n",
    "    return [book['ID'] for book in resp.json()['books']]\n",
    "\n",
    "books = []\n",
    "for i in range(1, 4):\n",
    "    books.extend([ getBook(i) for i in findBooks(i) ])"
   ]
  },
  {
   "cell_type": "markdown",
   "metadata": {},
   "source": [
    "## Write them to the new instance"
   ]
  },
  {
   "cell_type": "code",
   "execution_count": 31,
   "metadata": {
    "collapsed": false
   },
   "outputs": [],
   "source": [
    "passwd = '2d46 RG2n wzZ2 c4re'\n",
    "userid = 'admin'\n",
    "\n",
    "# 2016-08-04 15:59:38\n",
    "\n",
    "from datetime import datetime\n",
    "from pprint import pprint\n",
    "\n",
    "def createBook(o):\n",
    "    b = {}\n",
    "    b['title'] = o['title']\n",
    "    b['content'] = [ \n",
    "        {\n",
    "        'caption': page['text'],\n",
    "        'image': page['url'] \n",
    "        } for page in o['pages'] ]\n",
    "    b['pseudonym'] = o['author']\n",
    "    b['language'] = o['language']\n",
    "    b['date'] = datetime.strptime(o['created'], \"%Y-%m-%d %H:%M:%S\").isoformat()\n",
    "    b['modified'] = datetime.strptime(o['modified'], \"%Y-%m-%d %H:%M:%S\").isoformat()\n",
    "    b['categories'] = [3]\n",
    "    b['rating_count'] = o['rating_count']\n",
    "    b['rating_sum'] = o['rating_total']\n",
    "    b['reviewed'] = o['reviewed']\n",
    "    b['status'] = 'publish'\n",
    "    b['comment_status'] = 'closed'\n",
    "    b['ping_status'] = 'closed'\n",
    "    return b\n",
    "    \n",
    "for book in books:\n",
    "    b = createBook(book)\n",
    "    resp = requests.post('http://localhost:8000/wp-json/wp/v2/posts', json=b, \n",
    "                         auth=HTTPBasicAuth(userid, passwd))\n",
    "    "
   ]
  },
  {
   "cell_type": "code",
   "execution_count": null,
   "metadata": {
    "collapsed": true
   },
   "outputs": [],
   "source": []
  }
 ],
 "metadata": {
  "kernelspec": {
   "display_name": "Python 3",
   "language": "python",
   "name": "python3"
  },
  "language_info": {
   "codemirror_mode": {
    "name": "ipython",
    "version": 3
   },
   "file_extension": ".py",
   "mimetype": "text/x-python",
   "name": "python",
   "nbconvert_exporter": "python",
   "pygments_lexer": "ipython3",
   "version": "3.5.2"
  }
 },
 "nbformat": 4,
 "nbformat_minor": 0
}
