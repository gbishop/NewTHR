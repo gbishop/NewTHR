{
 "cells": [
  {
   "cell_type": "markdown",
   "metadata": {},
   "source": [
    "# Experiment with Wordpress Json API"
   ]
  },
  {
   "cell_type": "code",
   "execution_count": 20,
   "metadata": {
    "collapsed": true
   },
   "outputs": [],
   "source": [
    "passwd = '2d46 RG2n wzZ2 c4re'\n",
    "userid = 'admin'"
   ]
  },
  {
   "cell_type": "code",
   "execution_count": 89,
   "metadata": {
    "collapsed": false
   },
   "outputs": [
    {
     "name": "stdout",
     "output_type": "stream",
     "text": [
      "{\"id\":8,\"date\":\"2016-08-14T20:01:55\",\"date_gmt\":\"2016-08-15T00:01:55\",\"guid\":{\"rendered\":\"http:\\/\\/localhost:8000\\/?p=8\",\"raw\":\"http:\\/\\/localhost:8000\\/?p=8\"},\"modified\":\"2016-08-16T14:32:28\",\"modified_gmt\":\"2016-08-16T18:32:28\",\"password\":\"\",\"slug\":\"test-book\",\"status\":\"publish\",\"type\":\"post\",\"link\":\"http:\\/\\/localhost:8000\\/2016\\/08\\/14\\/test-book\\/\",\"title\":{\"raw\":\"my new title\",\"rendered\":\"my new title\"},\"content\":[{\"caption\":\"hello\",\"image\":\"\\/caption\\/foo.jpg\"},{\"caption\":\"world\",\"image\":\"\\/caption\\/bar.jpg\"}],\"excerpt\":{\"raw\":\"\",\"rendered\":\"<p>my new title<\\/p>\\n\"},\"author\":1,\"featured_media\":0,\"comment_status\":\"open\",\"ping_status\":\"open\",\"sticky\":false,\"format\":\"standard\",\"categories\":[2,3],\"tags\":[4],\"audience\":\"\",\"images\":[\"\\/caption\\/foo.jpg\",\"\\/caption\\/bar.jpg\"],\"language\":\"en\",\"pseudonym\":\"Reed A. Book\",\"rating_count\":\"\",\"rating_sum\":\"\",\"reviewed\":\"\",\"_links\":{\"self\":[{\"href\":\"http:\\/\\/localhost:8000\\/wp-json\\/wp\\/v2\\/posts\\/8\"}],\"collection\":[{\"href\":\"http:\\/\\/localhost:8000\\/wp-json\\/wp\\/v2\\/posts\"}],\"about\":[{\"href\":\"http:\\/\\/localhost:8000\\/wp-json\\/wp\\/v2\\/types\\/post\"}],\"author\":[{\"embeddable\":true,\"href\":\"http:\\/\\/localhost:8000\\/wp-json\\/wp\\/v2\\/users\\/1\"}],\"replies\":[{\"embeddable\":true,\"href\":\"http:\\/\\/localhost:8000\\/wp-json\\/wp\\/v2\\/comments?post=8\"}],\"version-history\":[{\"href\":\"http:\\/\\/localhost:8000\\/wp-json\\/wp\\/v2\\/posts\\/8\\/revisions\"}],\"wp:attachment\":[{\"href\":\"http:\\/\\/localhost:8000\\/wp-json\\/wp\\/v2\\/media?parent=8\"}],\"wp:term\":[{\"taxonomy\":\"category\",\"embeddable\":true,\"href\":\"http:\\/\\/localhost:8000\\/wp-json\\/wp\\/v2\\/categories?post=8\"},{\"taxonomy\":\"post_tag\",\"embeddable\":true,\"href\":\"http:\\/\\/localhost:8000\\/wp-json\\/wp\\/v2\\/tags?post=8\"}],\"curies\":[{\"name\":\"wp\",\"href\":\"https:\\/\\/api.w.org\\/{rel}\",\"templated\":true}]}}\n"
     ]
    }
   ],
   "source": [
    "import requests\n",
    "from requests.auth import HTTPBasicAuth\n",
    "import json\n",
    "\n",
    "data = {\n",
    "    'content': [\n",
    "        { 'caption': 'hello', 'image': '/caption/foo.jpg' },\n",
    "        { 'caption': 'world', 'image': '/caption/bar.jpg' }\n",
    "    ]\n",
    "}\n",
    "resp = requests.put('http://localhost:8000/wp-json/wp/v2/posts/8', json=data, auth=HTTPBasicAuth(userid, passwd))\n",
    "print(resp.text)"
   ]
  },
  {
   "cell_type": "code",
   "execution_count": 91,
   "metadata": {
    "collapsed": false
   },
   "outputs": [
    {
     "name": "stdout",
     "output_type": "stream",
     "text": [
      "{'_links': {'about': [{'href': 'http://localhost:8000/wp-json/wp/v2/types/post'}],\n",
      "            'author': [{'embeddable': True,\n",
      "                        'href': 'http://localhost:8000/wp-json/wp/v2/users/1'}],\n",
      "            'collection': [{'href': 'http://localhost:8000/wp-json/wp/v2/posts'}],\n",
      "            'curies': [{'href': 'https://api.w.org/{rel}',\n",
      "                        'name': 'wp',\n",
      "                        'templated': True}],\n",
      "            'replies': [{'embeddable': True,\n",
      "                         'href': 'http://localhost:8000/wp-json/wp/v2/comments?post=8'}],\n",
      "            'self': [{'href': 'http://localhost:8000/wp-json/wp/v2/posts/8'}],\n",
      "            'version-history': [{'href': 'http://localhost:8000/wp-json/wp/v2/posts/8/revisions'}],\n",
      "            'wp:attachment': [{'href': 'http://localhost:8000/wp-json/wp/v2/media?parent=8'}],\n",
      "            'wp:term': [{'embeddable': True,\n",
      "                         'href': 'http://localhost:8000/wp-json/wp/v2/categories?post=8',\n",
      "                         'taxonomy': 'category'},\n",
      "                        {'embeddable': True,\n",
      "                         'href': 'http://localhost:8000/wp-json/wp/v2/tags?post=8',\n",
      "                         'taxonomy': 'post_tag'}]},\n",
      " 'audience': '',\n",
      " 'author': 1,\n",
      " 'categories': [2, 3],\n",
      " 'comment_status': 'open',\n",
      " 'content': [{'caption': 'hello', 'image': '/caption/foo.jpg'},\n",
      "             {'caption': 'world', 'image': '/caption/bar.jpg'}],\n",
      " 'date': '2016-08-14T20:01:55',\n",
      " 'date_gmt': '2016-08-15T00:01:55',\n",
      " 'excerpt': {'rendered': '<p>my new title Reed A. Book</p>\\n'},\n",
      " 'featured_media': 0,\n",
      " 'format': 'standard',\n",
      " 'guid': {'rendered': 'http://localhost:8000/?p=8'},\n",
      " 'id': 8,\n",
      " 'images': ['/caption/foo.jpg', '/caption/bar.jpg'],\n",
      " 'language': 'en',\n",
      " 'link': 'http://localhost:8000/2016/08/14/test-book/',\n",
      " 'modified': '2016-08-16T14:32:28',\n",
      " 'modified_gmt': '2016-08-16T18:32:28',\n",
      " 'ping_status': 'open',\n",
      " 'pseudonym': 'Reed A. Book',\n",
      " 'rating_count': '',\n",
      " 'rating_sum': '',\n",
      " 'reviewed': '',\n",
      " 'slug': 'test-book',\n",
      " 'sticky': False,\n",
      " 'tags': [4],\n",
      " 'title': {'rendered': 'my new title'},\n",
      " 'type': 'post'}\n"
     ]
    }
   ],
   "source": [
    "resp = requests.get('http://localhost:8000/wp-json/wp/v2/posts/8')\n",
    "pprint(resp.json())"
   ]
  },
  {
   "cell_type": "code",
   "execution_count": 68,
   "metadata": {
    "collapsed": false
   },
   "outputs": [
    {
     "name": "stdout",
     "output_type": "stream",
     "text": [
      "{\"id\":8,\"date\":\"2016-08-14T20:01:55\",\"date_gmt\":\"2016-08-15T00:01:55\",\"guid\":{\"rendered\":\"http:\\/\\/localhost:8000\\/?p=8\",\"raw\":\"http:\\/\\/localhost:8000\\/?p=8\"},\"modified\":\"2016-08-16T12:44:06\",\"modified_gmt\":\"2016-08-16T16:44:06\",\"password\":\"\",\"slug\":\"test-book\",\"status\":\"publish\",\"type\":\"post\",\"link\":\"http:\\/\\/localhost:8000\\/2016\\/08\\/14\\/test-book\\/\",\"title\":{\"raw\":\"my new title\",\"rendered\":\"my new title\"},\"content\":[\"Now\",\"is\",\"the\",\"time.\"],\"excerpt\":{\"raw\":\"\",\"rendered\":\"<p>Now<\\/p>\\n\"},\"author\":1,\"featured_media\":0,\"comment_status\":\"open\",\"ping_status\":\"open\",\"sticky\":false,\"format\":\"standard\",\"categories\":[2,3],\"tags\":[4],\"language\":\"en\",\"images\":[\"Now\",\"is\",\"the\",\"time\"],\"_links\":{\"self\":[{\"href\":\"http:\\/\\/localhost:8000\\/wp-json\\/wp\\/v2\\/posts\\/8\"}],\"collection\":[{\"href\":\"http:\\/\\/localhost:8000\\/wp-json\\/wp\\/v2\\/posts\"}],\"about\":[{\"href\":\"http:\\/\\/localhost:8000\\/wp-json\\/wp\\/v2\\/types\\/post\"}],\"author\":[{\"embeddable\":true,\"href\":\"http:\\/\\/localhost:8000\\/wp-json\\/wp\\/v2\\/users\\/1\"}],\"replies\":[{\"embeddable\":true,\"href\":\"http:\\/\\/localhost:8000\\/wp-json\\/wp\\/v2\\/comments?post=8\"}],\"version-history\":[{\"href\":\"http:\\/\\/localhost:8000\\/wp-json\\/wp\\/v2\\/posts\\/8\\/revisions\"}],\"wp:attachment\":[{\"href\":\"http:\\/\\/localhost:8000\\/wp-json\\/wp\\/v2\\/media?parent=8\"}],\"wp:term\":[{\"taxonomy\":\"category\",\"embeddable\":true,\"href\":\"http:\\/\\/localhost:8000\\/wp-json\\/wp\\/v2\\/categories?post=8\"},{\"taxonomy\":\"post_tag\",\"embeddable\":true,\"href\":\"http:\\/\\/localhost:8000\\/wp-json\\/wp\\/v2\\/tags?post=8\"}],\"curies\":[{\"name\":\"wp\",\"href\":\"https:\\/\\/api.w.org\\/{rel}\",\"templated\":true}]}}\n"
     ]
    }
   ],
   "source": [
    "data = {\n",
    "    'images': ['Now', 'is', 'the', 'time']\n",
    "    }\n",
    "resp = requests.put('http://localhost:8000/wp-json/wp/v2/posts/8', json=data, auth=HTTPBasicAuth(userid, passwd))\n",
    "print(resp.text)"
   ]
  },
  {
   "cell_type": "code",
   "execution_count": 77,
   "metadata": {
    "collapsed": false
   },
   "outputs": [
    {
     "name": "stdout",
     "output_type": "stream",
     "text": [
      "{\"id\":8,\"date\":\"2016-08-14T20:01:55\",\"date_gmt\":\"2016-08-15T00:01:55\",\"guid\":{\"rendered\":\"http:\\/\\/localhost:8000\\/?p=8\"},\"modified\":\"2016-08-16T12:44:06\",\"modified_gmt\":\"2016-08-16T16:44:06\",\"slug\":\"test-book\",\"type\":\"post\",\"link\":\"http:\\/\\/localhost:8000\\/2016\\/08\\/14\\/test-book\\/\",\"title\":{\"rendered\":\"my new title\"},\"content\":[\"Now\",\"is\",\"the\",\"time.\"],\"excerpt\":{\"rendered\":\"<p>Now<\\/p>\\n\"},\"author\":1,\"featured_media\":0,\"comment_status\":\"open\",\"ping_status\":\"open\",\"sticky\":false,\"format\":\"standard\",\"categories\":[2,3],\"tags\":[4],\"language\":\"en\",\"images\":[\"Now\",\"is\",\"the\",\"time\"],\"_links\":{\"self\":[{\"href\":\"http:\\/\\/localhost:8000\\/wp-json\\/wp\\/v2\\/posts\\/8\"}],\"collection\":[{\"href\":\"http:\\/\\/localhost:8000\\/wp-json\\/wp\\/v2\\/posts\"}],\"about\":[{\"href\":\"http:\\/\\/localhost:8000\\/wp-json\\/wp\\/v2\\/types\\/post\"}],\"author\":[{\"embeddable\":true,\"href\":\"http:\\/\\/localhost:8000\\/wp-json\\/wp\\/v2\\/users\\/1\"}],\"replies\":[{\"embeddable\":true,\"href\":\"http:\\/\\/localhost:8000\\/wp-json\\/wp\\/v2\\/comments?post=8\"}],\"version-history\":[{\"href\":\"http:\\/\\/localhost:8000\\/wp-json\\/wp\\/v2\\/posts\\/8\\/revisions\"}],\"wp:attachment\":[{\"href\":\"http:\\/\\/localhost:8000\\/wp-json\\/wp\\/v2\\/media?parent=8\"}],\"wp:term\":[{\"taxonomy\":\"category\",\"embeddable\":true,\"href\":\"http:\\/\\/localhost:8000\\/wp-json\\/wp\\/v2\\/categories?post=8\"},{\"taxonomy\":\"post_tag\",\"embeddable\":true,\"href\":\"http:\\/\\/localhost:8000\\/wp-json\\/wp\\/v2\\/tags?post=8\"}],\"curies\":[{\"name\":\"wp\",\"href\":\"https:\\/\\/api.w.org\\/{rel}\",\"templated\":true}]}}\n",
      "{'_links': {'about': [{'href': 'http://localhost:8000/wp-json/wp/v2/types/post'}],\n",
      "            'author': [{'embeddable': True,\n",
      "                        'href': 'http://localhost:8000/wp-json/wp/v2/users/1'}],\n",
      "            'collection': [{'href': 'http://localhost:8000/wp-json/wp/v2/posts'}],\n",
      "            'curies': [{'href': 'https://api.w.org/{rel}',\n",
      "                        'name': 'wp',\n",
      "                        'templated': True}],\n",
      "            'replies': [{'embeddable': True,\n",
      "                         'href': 'http://localhost:8000/wp-json/wp/v2/comments?post=8'}],\n",
      "            'self': [{'href': 'http://localhost:8000/wp-json/wp/v2/posts/8'}],\n",
      "            'version-history': [{'href': 'http://localhost:8000/wp-json/wp/v2/posts/8/revisions'}],\n",
      "            'wp:attachment': [{'href': 'http://localhost:8000/wp-json/wp/v2/media?parent=8'}],\n",
      "            'wp:term': [{'embeddable': True,\n",
      "                         'href': 'http://localhost:8000/wp-json/wp/v2/categories?post=8',\n",
      "                         'taxonomy': 'category'},\n",
      "                        {'embeddable': True,\n",
      "                         'href': 'http://localhost:8000/wp-json/wp/v2/tags?post=8',\n",
      "                         'taxonomy': 'post_tag'}]},\n",
      " 'author': 1,\n",
      " 'categories': [2, 3],\n",
      " 'comment_status': 'open',\n",
      " 'content': ['Now', 'is', 'the', 'time.'],\n",
      " 'date': '2016-08-14T20:01:55',\n",
      " 'date_gmt': '2016-08-15T00:01:55',\n",
      " 'excerpt': {'rendered': '<p>Now</p>\\n'},\n",
      " 'featured_media': 0,\n",
      " 'format': 'standard',\n",
      " 'guid': {'rendered': 'http://localhost:8000/?p=8'},\n",
      " 'id': 8,\n",
      " 'images': ['Now', 'is', 'the', 'time'],\n",
      " 'language': 'en',\n",
      " 'link': 'http://localhost:8000/2016/08/14/test-book/',\n",
      " 'modified': '2016-08-16T12:44:06',\n",
      " 'modified_gmt': '2016-08-16T16:44:06',\n",
      " 'ping_status': 'open',\n",
      " 'slug': 'test-book',\n",
      " 'sticky': False,\n",
      " 'tags': [4],\n",
      " 'title': {'rendered': 'my new title'},\n",
      " 'type': 'post'}\n"
     ]
    }
   ],
   "source": [
    "from pprint import pprint\n",
    "resp = requests.get('http://localhost:8000/wp-json/wp/v2/posts/8')\n",
    "print(resp.text)\n",
    "pprint(resp.json())"
   ]
  },
  {
   "cell_type": "code",
   "execution_count": 92,
   "metadata": {
    "collapsed": false
   },
   "outputs": [
    {
     "name": "stdout",
     "output_type": "stream",
     "text": [
      "{\"title\":\"Horses\",\"author\":\"Mary Hobbs\",\"type\":\" \",\"audience\":\"E\",\"reviewed\":true,\"language\":\"en\",\"categories\":[\"Anim\"],\"tags\":[\"\"],\"pages\":[{\"text\":\"Horses\",\"url\":\"\\/cache\\/images\\/09\\/9103287209_67f31d4f71_t.jpg\",\"width\":100,\"height\":75},{\"text\":\"Horses\",\"url\":\"\\/cache\\/images\\/09\\/9103287209_67f31d4f71.jpg\",\"width\":500,\"height\":375},{\"text\":\"Horses come in many colors\",\"url\":\"\\/cache\\/images\\/24\\/43311724_28f21b3ba0.jpg\",\"width\":500,\"height\":333},{\"text\":\"and patterns.\",\"url\":\"\\/cache\\/images\\/60\\/6240747460_75e5cc597c.jpg\",\"width\":500,\"height\":375},{\"text\":\"Some horses grow thick coats for winter.\",\"url\":\"\\/cache\\/images\\/47\\/104635547_3660490d7f.jpg\",\"width\":500,\"height\":383},{\"text\":\"Some horses are big.\",\"url\":\"\\/cache\\/images\\/82\\/7512299482_9e2282919a.jpg\",\"width\":500,\"height\":374},{\"text\":\"Some horses run fast.\",\"url\":\"\\/cache\\/images\\/43\\/9158471643_06485bc8cc.jpg\",\"width\":500,\"height\":387},{\"text\":\"Some horses jump over fences.\",\"url\":\"\\/cache\\/images\\/47\\/5744039447_be22f59fa7.jpg\",\"width\":500,\"height\":407},{\"text\":\"Some horses work in big cities.\",\"url\":\"\\/cache\\/images\\/57\\/5543405357_fdef694614.jpg\",\"width\":340,\"height\":500},{\"text\":\"Some horses walk in parades.\",\"url\":\"\\/cache\\/images\\/76\\/3178812576_6026543dfd.jpg\",\"width\":500,\"height\":375},{\"text\":\"Some horses like to play.\",\"url\":\"\\/cache\\/images\\/43\\/6240460843_d16beb35fb.jpg\",\"width\":500,\"height\":333},{\"text\":\"Would you like to have a horse?\",\"url\":\"\\/cache\\/images\\/25\\/3528060125_e66f63a1a4.jpg\",\"width\":500,\"height\":332}],\"status\":\"publish\",\"ID\":157293,\"author_id\":\"26468\",\"rating_count\":30,\"rating_value\":2,\"rating_total\":66,\"modified\":\"2016-08-04 15:59:38\",\"created\":\"2016-08-03 15:35:06\",\"slug\":\"horses-103\",\"link\":\"\\/2016\\/08\\/03\\/horses-103\\/\",\"bust\":\"160408155938\"}\n",
      "{'ID': 157293,\n",
      " 'audience': 'E',\n",
      " 'author': 'Mary Hobbs',\n",
      " 'author_id': '26468',\n",
      " 'bust': '160408155938',\n",
      " 'categories': ['Anim'],\n",
      " 'created': '2016-08-03 15:35:06',\n",
      " 'language': 'en',\n",
      " 'link': '/2016/08/03/horses-103/',\n",
      " 'modified': '2016-08-04 15:59:38',\n",
      " 'pages': [{'height': 75,\n",
      "            'text': 'Horses',\n",
      "            'url': '/cache/images/09/9103287209_67f31d4f71_t.jpg',\n",
      "            'width': 100},\n",
      "           {'height': 375,\n",
      "            'text': 'Horses',\n",
      "            'url': '/cache/images/09/9103287209_67f31d4f71.jpg',\n",
      "            'width': 500},\n",
      "           {'height': 333,\n",
      "            'text': 'Horses come in many colors',\n",
      "            'url': '/cache/images/24/43311724_28f21b3ba0.jpg',\n",
      "            'width': 500},\n",
      "           {'height': 375,\n",
      "            'text': 'and patterns.',\n",
      "            'url': '/cache/images/60/6240747460_75e5cc597c.jpg',\n",
      "            'width': 500},\n",
      "           {'height': 383,\n",
      "            'text': 'Some horses grow thick coats for winter.',\n",
      "            'url': '/cache/images/47/104635547_3660490d7f.jpg',\n",
      "            'width': 500},\n",
      "           {'height': 374,\n",
      "            'text': 'Some horses are big.',\n",
      "            'url': '/cache/images/82/7512299482_9e2282919a.jpg',\n",
      "            'width': 500},\n",
      "           {'height': 387,\n",
      "            'text': 'Some horses run fast.',\n",
      "            'url': '/cache/images/43/9158471643_06485bc8cc.jpg',\n",
      "            'width': 500},\n",
      "           {'height': 407,\n",
      "            'text': 'Some horses jump over fences.',\n",
      "            'url': '/cache/images/47/5744039447_be22f59fa7.jpg',\n",
      "            'width': 500},\n",
      "           {'height': 500,\n",
      "            'text': 'Some horses work in big cities.',\n",
      "            'url': '/cache/images/57/5543405357_fdef694614.jpg',\n",
      "            'width': 340},\n",
      "           {'height': 375,\n",
      "            'text': 'Some horses walk in parades.',\n",
      "            'url': '/cache/images/76/3178812576_6026543dfd.jpg',\n",
      "            'width': 500},\n",
      "           {'height': 333,\n",
      "            'text': 'Some horses like to play.',\n",
      "            'url': '/cache/images/43/6240460843_d16beb35fb.jpg',\n",
      "            'width': 500},\n",
      "           {'height': 332,\n",
      "            'text': 'Would you like to have a horse?',\n",
      "            'url': '/cache/images/25/3528060125_e66f63a1a4.jpg',\n",
      "            'width': 500}],\n",
      " 'rating_count': 30,\n",
      " 'rating_total': 66,\n",
      " 'rating_value': 2,\n",
      " 'reviewed': True,\n",
      " 'slug': 'horses-103',\n",
      " 'status': 'publish',\n",
      " 'tags': [''],\n",
      " 'title': 'Horses',\n",
      " 'type': ' '}\n"
     ]
    }
   ],
   "source": [
    "resp = requests.get('http://tarheelreader.org/book-as-json/?slug=horses-103')\n",
    "print(resp.text)\n",
    "pprint(resp.json())"
   ]
  },
  {
   "cell_type": "code",
   "execution_count": 101,
   "metadata": {
    "collapsed": false
   },
   "outputs": [
    {
     "name": "stdout",
     "output_type": "stream",
     "text": [
      "('<br />\\n'\n",
      " '<b>Warning</b>:  array_map(): Argument #3 should be an array in '\n",
      " '<b>/var/www/html/wp-content/themes/thr/functions.php</b> on line '\n",
      " '<b>29</b><br />\\n'\n",
      " '<br />\\n'\n",
      " '<b>Warning</b>:  Cannot modify header information - headers already sent by '\n",
      " '(output started at /var/www/html/wp-content/themes/thr/functions.php:29) in '\n",
      " '<b>/var/www/html/wp-includes/rest-api/class-wp-rest-server.php</b> on line '\n",
      " '<b>1196</b><br />\\n'\n",
      " '<br />\\n'\n",
      " '<b>Warning</b>:  Cannot modify header information - headers already sent by '\n",
      " '(output started at /var/www/html/wp-content/themes/thr/functions.php:29) in '\n",
      " '<b>/var/www/html/wp-includes/rest-api/class-wp-rest-server.php</b> on line '\n",
      " '<b>1196</b><br />\\n'\n",
      " '<br />\\n'\n",
      " '<b>Warning</b>:  Cannot modify header information - headers already sent by '\n",
      " '(output started at /var/www/html/wp-content/themes/thr/functions.php:29) in '\n",
      " '<b>/var/www/html/wp-includes/rest-api/class-wp-rest-server.php</b> on line '\n",
      " '<b>1196</b><br />\\n'\n",
      " '[{\"id\":39,\"date\":\"2016-08-16T15:18:54\",\"date_gmt\":\"2016-08-16T19:18:54\",\"guid\":{\"rendered\":\"http:\\\\/\\\\/localhost:8000\\\\/?p=39\"},\"modified\":\"2016-08-16T15:18:54\",\"modified_gmt\":\"2016-08-16T19:18:54\",\"slug\":\"an-annoucement\",\"type\":\"post\",\"link\":\"http:\\\\/\\\\/localhost:8000\\\\/2016\\\\/08\\\\/16\\\\/an-annoucement\\\\/\",\"title\":{\"rendered\":\"An '\n",
      " 'annoucement\"},\"content\":null,\"excerpt\":{\"rendered\":\"<p>Big '\n",
      " 'news!<\\\\/p>\\\\n\"},\"author\":1,\"featured_media\":0,\"comment_status\":\"open\",\"ping_status\":\"open\",\"sticky\":false,\"format\":\"standard\",\"categories\":[5],\"tags\":[],\"audience\":\"\",\"images\":\"\",\"language\":\"\",\"pseudonym\":\"\",\"rating_count\":\"\",\"rating_sum\":\"\",\"reviewed\":\"\",\"_links\":{\"self\":[{\"href\":\"http:\\\\/\\\\/localhost:8000\\\\/wp-json\\\\/wp\\\\/v2\\\\/posts\\\\/39\"}],\"collection\":[{\"href\":\"http:\\\\/\\\\/localhost:8000\\\\/wp-json\\\\/wp\\\\/v2\\\\/posts\"}],\"about\":[{\"href\":\"http:\\\\/\\\\/localhost:8000\\\\/wp-json\\\\/wp\\\\/v2\\\\/types\\\\/post\"}],\"author\":[{\"embeddable\":true,\"href\":\"http:\\\\/\\\\/localhost:8000\\\\/wp-json\\\\/wp\\\\/v2\\\\/users\\\\/1\"}],\"replies\":[{\"embeddable\":true,\"href\":\"http:\\\\/\\\\/localhost:8000\\\\/wp-json\\\\/wp\\\\/v2\\\\/comments?post=39\"}],\"version-history\":[{\"href\":\"http:\\\\/\\\\/localhost:8000\\\\/wp-json\\\\/wp\\\\/v2\\\\/posts\\\\/39\\\\/revisions\"}],\"wp:attachment\":[{\"href\":\"http:\\\\/\\\\/localhost:8000\\\\/wp-json\\\\/wp\\\\/v2\\\\/media?parent=39\"}],\"wp:term\":[{\"taxonomy\":\"category\",\"embeddable\":true,\"href\":\"http:\\\\/\\\\/localhost:8000\\\\/wp-json\\\\/wp\\\\/v2\\\\/categories?post=39\"},{\"taxonomy\":\"post_tag\",\"embeddable\":true,\"href\":\"http:\\\\/\\\\/localhost:8000\\\\/wp-json\\\\/wp\\\\/v2\\\\/tags?post=39\"}],\"curies\":[{\"name\":\"wp\",\"href\":\"https:\\\\/\\\\/api.w.org\\\\/{rel}\",\"templated\":true}]}}]')\n"
     ]
    }
   ],
   "source": [
    "query = {\n",
    "    'search': 'news'\n",
    "    }\n",
    "resp = requests.get('http://localhost:8000/wp-json/wp/v2/posts', params=query)\n",
    "pprint(resp.text)"
   ]
  }
 ],
 "metadata": {
  "kernelspec": {
   "display_name": "Python 3",
   "language": "python",
   "name": "python3"
  },
  "language_info": {
   "codemirror_mode": {
    "name": "ipython",
    "version": 3
   },
   "file_extension": ".py",
   "mimetype": "text/x-python",
   "name": "python",
   "nbconvert_exporter": "python",
   "pygments_lexer": "ipython3",
   "version": "3.5.2"
  }
 },
 "nbformat": 4,
 "nbformat_minor": 0
}
