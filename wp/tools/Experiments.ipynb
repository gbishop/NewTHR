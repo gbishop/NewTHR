{
 "cells": [
  {
   "cell_type": "markdown",
   "metadata": {},
   "source": [
    "# Experiment with Wordpress Json API"
   ]
  },
  {
   "cell_type": "code",
   "execution_count": 11,
   "metadata": {
    "collapsed": true
   },
   "outputs": [],
   "source": [
    "passwd = '2d46 RG2n wzZ2 c4re'\n",
    "userid = 'admin'"
   ]
  },
  {
   "cell_type": "code",
   "execution_count": 3,
   "metadata": {
    "collapsed": false
   },
   "outputs": [
    {
     "name": "stdout",
     "output_type": "stream",
     "text": [
      "{\"id\":431,\"date\":\"2016-08-03T11:35:06\",\"date_gmt\":\"2016-08-03T15:35:06\",\"guid\":{\"rendered\":\"http:\\/\\/localhost:8000\\/2016\\/08\\/03\\/horses\\/\",\"raw\":\"http:\\/\\/localhost:8000\\/2016\\/08\\/03\\/horses\\/\"},\"modified\":\"2016-08-17T08:35:14\",\"modified_gmt\":\"2016-08-17T12:35:14\",\"password\":\"\",\"slug\":\"horses\",\"status\":\"publish\",\"type\":\"post\",\"link\":\"http:\\/\\/localhost:8000\\/2016\\/08\\/03\\/horses\\/\",\"title\":{\"raw\":\"Horses\",\"rendered\":\"Horses\"},\"content\":{\"raw\":\"Horses\\n<!--more-->\\nHorses\\n<!--more-->\\nHorses come in many colors\\n<!--more-->\\nand patterns.\\n<!--more-->\\nSome horses grow thick coats for winter.\\n<!--more-->\\nSome horses are big.\\n<!--more-->\\nSome horses run fast.\\n<!--more-->\\nSome horses jump over fences.\\n<!--more-->\\nSome horses work in big cities.\\n<!--more-->\\nSome horses walk in parades.\\n<!--more-->\\nSome horses like to play.\\n<!--more-->\\nWould you like to have a horse?\",\"rendered\":\"<p>Horses<br \\/>\\n<!--more--><br \\/>\\nHorses<br \\/>\\n<!--more--><br \\/>\\nHorses come in many colors<br \\/>\\n<!--more--><br \\/>\\nand patterns.<br \\/>\\n<!--more--><br \\/>\\nSome horses grow thick coats for winter.<br \\/>\\n<!--more--><br \\/>\\nSome horses are big.<br \\/>\\n<!--more--><br \\/>\\nSome horses run fast.<br \\/>\\n<!--more--><br \\/>\\nSome horses jump over fences.<br \\/>\\n<!--more--><br \\/>\\nSome horses work in big cities.<br \\/>\\n<!--more--><br \\/>\\nSome horses walk in parades.<br \\/>\\n<!--more--><br \\/>\\nSome horses like to play.<br \\/>\\n<!--more--><br \\/>\\nWould you like to have a horse?<\\/p>\\n\"},\"excerpt\":{\"raw\":\"\",\"rendered\":\"<p>Horses<\\/p>\\n\"},\"author\":1,\"featured_media\":0,\"comment_status\":\"closed\",\"ping_status\":\"closed\",\"sticky\":false,\"format\":\"standard\",\"categories\":[3],\"tags\":[],\"audience\":\"\",\"pictures\":[\"foo\",\"bar\"],\"language\":\"en\",\"pseudonym\":\"Mary Hobbs\",\"rating_count\":\"30\",\"rating_sum\":\"66\",\"reviewed\":\"1\",\"text\":[\"Horses\",\"Horses\",\"Horses come in many colors\",\"and patterns.\",\"Some horses grow thick coats for winter.\",\"Some horses are big.\",\"Some horses run fast.\",\"Some horses jump over fences.\",\"Some horses work in big cities.\",\"Some horses walk in parades.\",\"Some horses like to play.\",\"Would you like to have a horse?\"],\"_links\":{\"self\":[{\"href\":\"http:\\/\\/localhost:8000\\/wp-json\\/wp\\/v2\\/posts\\/431\"}],\"collection\":[{\"href\":\"http:\\/\\/localhost:8000\\/wp-json\\/wp\\/v2\\/posts\"}],\"about\":[{\"href\":\"http:\\/\\/localhost:8000\\/wp-json\\/wp\\/v2\\/types\\/post\"}],\"author\":[{\"embeddable\":true,\"href\":\"http:\\/\\/localhost:8000\\/wp-json\\/wp\\/v2\\/users\\/1\"}],\"replies\":[{\"embeddable\":true,\"href\":\"http:\\/\\/localhost:8000\\/wp-json\\/wp\\/v2\\/comments?post=431\"}],\"version-history\":[{\"href\":\"http:\\/\\/localhost:8000\\/wp-json\\/wp\\/v2\\/posts\\/431\\/revisions\"}],\"wp:attachment\":[{\"href\":\"http:\\/\\/localhost:8000\\/wp-json\\/wp\\/v2\\/media?parent=431\"}],\"wp:term\":[{\"taxonomy\":\"category\",\"embeddable\":true,\"href\":\"http:\\/\\/localhost:8000\\/wp-json\\/wp\\/v2\\/categories?post=431\"},{\"taxonomy\":\"post_tag\",\"embeddable\":true,\"href\":\"http:\\/\\/localhost:8000\\/wp-json\\/wp\\/v2\\/tags?post=431\"}],\"curies\":[{\"name\":\"wp\",\"href\":\"https:\\/\\/api.w.org\\/{rel}\",\"templated\":true}]}}\n"
     ]
    }
   ],
   "source": [
    "import requests\n",
    "from requests.auth import HTTPBasicAuth\n",
    "import json\n",
    "\n",
    "data = {\n",
    "    'pictures': [\n",
    "        'foo', 'bar'\n",
    "    ]\n",
    "}\n",
    "resp = requests.put('http://localhost:8000/wp-json/wp/v2/posts/431', json=data, auth=HTTPBasicAuth(userid, passwd))\n",
    "print(resp.text)"
   ]
  },
  {
   "cell_type": "code",
   "execution_count": 15,
   "metadata": {
    "collapsed": false
   },
   "outputs": [
    {
     "name": "stdout",
     "output_type": "stream",
     "text": [
      "{'_links': {'about': [{'href': 'http://localhost:8000/wp-json/wp/v2/types/post'}],\n",
      "            'author': [{'embeddable': True,\n",
      "                        'href': 'http://localhost:8000/wp-json/wp/v2/users/1'}],\n",
      "            'collection': [{'href': 'http://localhost:8000/wp-json/wp/v2/posts'}],\n",
      "            'curies': [{'href': 'https://api.w.org/{rel}',\n",
      "                        'name': 'wp',\n",
      "                        'templated': True}],\n",
      "            'replies': [{'embeddable': True,\n",
      "                         'href': 'http://localhost:8000/wp-json/wp/v2/comments?post=451'}],\n",
      "            'self': [{'href': 'http://localhost:8000/wp-json/wp/v2/posts/451'}],\n",
      "            'version-history': [{'href': 'http://localhost:8000/wp-json/wp/v2/posts/451/revisions'}],\n",
      "            'wp:attachment': [{'href': 'http://localhost:8000/wp-json/wp/v2/media?parent=451'}],\n",
      "            'wp:term': [{'embeddable': True,\n",
      "                         'href': 'http://localhost:8000/wp-json/wp/v2/categories?post=451',\n",
      "                         'taxonomy': 'category'},\n",
      "                        {'embeddable': True,\n",
      "                         'href': 'http://localhost:8000/wp-json/wp/v2/tags?post=451',\n",
      "                         'taxonomy': 'post_tag'}]},\n",
      " 'audience': '',\n",
      " 'author': 1,\n",
      " 'categories': [3],\n",
      " 'comment_status': 'closed',\n",
      " 'content': {'rendered': '<p>Cookie Monster&#8217;s ABC<br />\\n'\n",
      "                         '<!--more--><br />\\n'\n",
      "                         'Cookie Monster&#8217;s ABC<br />\\n'\n",
      "                         '<!--more--><br />\\n'\n",
      "                         'A is for almond cookies.<br />\\n'\n",
      "                         '<!--more--><br />\\n'\n",
      "                         'B is for blueberry cookies<br />\\n'\n",
      "                         '<!--more--><br />\\n'\n",
      "                         'C is for chocolate cookies.<br />\\n'\n",
      "                         '<!--more--><br />\\n'\n",
      "                         'D is for dunking cookie.<br />\\n'\n",
      "                         '<!--more--><br />\\n'\n",
      "                         'E is for Easter cookies.<br />\\n'\n",
      "                         '<!--more--><br />\\n'\n",
      "                         'F is for frog cookies.<br />\\n'\n",
      "                         '<!--more--><br />\\n'\n",
      "                         'G is for gingerbread man cookie.<br />\\n'\n",
      "                         '<!--more--><br />\\n'\n",
      "                         'H is for happy cookies.<br />\\n'\n",
      "                         '<!--more--><br />\\n'\n",
      "                         'I is for ice cream cookie.<br />\\n'\n",
      "                         '<!--more--><br />\\n'\n",
      "                         'J is for jam drop cookies.<br />\\n'\n",
      "                         '<!--more--><br />\\n'\n",
      "                         'K is for koala cookies.<br />\\n'\n",
      "                         '<!--more--><br />\\n'\n",
      "                         'L is for little cookies.<br />\\n'\n",
      "                         '<!--more--><br />\\n'\n",
      "                         'M is for M&amp;M cookies.<br />\\n'\n",
      "                         '<!--more--><br />\\n'\n",
      "                         'N is for Nutella cookies.<br />\\n'\n",
      "                         '<!--more--><br />\\n'\n",
      "                         'O is for oatmeal cookies.<br />\\n'\n",
      "                         '<!--more--><br />\\n'\n",
      "                         'P is for pink princess cookies.<br />\\n'\n",
      "                         '<!--more--><br />\\n'\n",
      "                         'Q is for Q cookie.<br />\\n'\n",
      "                         '<!--more--><br />\\n'\n",
      "                         'R is for rainbow cookies.<br />\\n'\n",
      "                         '<!--more--><br />\\n'\n",
      "                         'S is for sad cookie.<br />\\n'\n",
      "                         '<!--more--><br />\\n'\n",
      "                         'T is for turtle cookie.<br />\\n'\n",
      "                         '<!--more--><br />\\n'\n",
      "                         'U is for umbrella cookies.<br />\\n'\n",
      "                         '<!--more--><br />\\n'\n",
      "                         'V is for red velvet cookies.<br />\\n'\n",
      "                         '<!--more--><br />\\n'\n",
      "                         'W is for whale cookies.<br />\\n'\n",
      "                         '<!--more--><br />\\n'\n",
      "                         'X is for x-ray cookie.<br />\\n'\n",
      "                         '<!--more--><br />\\n'\n",
      "                         'Y is for yellow cookies.<br />\\n'\n",
      "                         '<!--more--><br />\\n'\n",
      "                         'Z is for zebra shoe cookies.</p>\\n'},\n",
      " 'date': '2016-07-18T00:19:56',\n",
      " 'date_gmt': '2016-07-18T04:19:56',\n",
      " 'excerpt': {'rendered': '<p>Cookie Monster&#8217;s ABC</p>\\n'},\n",
      " 'featured_media': 0,\n",
      " 'format': 'standard',\n",
      " 'guid': {'rendered': 'http://localhost:8000/2016/07/18/cookie-monsters-abc/'},\n",
      " 'id': 451,\n",
      " 'language': 'en',\n",
      " 'link': 'http://localhost:8000/2016/07/18/cookie-monsters-abc/',\n",
      " 'modified': '2016-08-17T08:37:20',\n",
      " 'modified_gmt': '2016-08-17T12:37:20',\n",
      " 'pictures': ['/cache/images/69/4555506269_5515869189_t.jpg',\n",
      "              '/cache/images/69/4555506269_5515869189.jpg',\n",
      "              '/cache/images/76/5878022576_7a40773713.jpg',\n",
      "              '/cache/images/88/3376726788_5aac87c923.jpg',\n",
      "              '/cache/images/52/7473605652_d18169dffb.jpg',\n",
      "              '/cache/images/64/5395180464_783e80f326.jpg',\n",
      "              '/cache/images/81/458922981_383deb8d0c.jpg',\n",
      "              '/cache/images/59/99834259_2dfb75d38a.jpg',\n",
      "              '/cache/images/29/5277497529_6cb60cf480.jpg',\n",
      "              '/cache/images/62/4645828162_b9338e2cbe.jpg',\n",
      "              '/cache/images/02/466731102_dd5d47be69.jpg',\n",
      "              '/cache/images/79/3495796379_134590f998.jpg',\n",
      "              '/cache/images/56/5075028956_a4444f251e.jpg',\n",
      "              '/cache/images/88/6136478188_3b067a18e5.jpg',\n",
      "              '/cache/images/63/5714826863_69dfe5965e.jpg',\n",
      "              '/cache/images/65/7095126765_45a3c6242d.jpg',\n",
      "              '/cache/images/34/5347651934_a7a2a676f0.jpg',\n",
      "              '/cache/images/83/12031220983_10b2f71881.jpg',\n",
      "              '/cache/images/88/4937867788_63cc79f692.jpg',\n",
      "              '/cache/images/02/4766488002_ef7f09cc86.jpg',\n",
      "              '/cache/images/59/5641965159_56c67af0a4.jpg',\n",
      "              '/cache/images/61/4326179061_01996b408a.jpg',\n",
      "              '/cache/images/11/3175241611_e87b0f3144.jpg',\n",
      "              '/cache/images/51/5788162651_4e1c946cef.jpg',\n",
      "              '/cache/images/02/8454157602_88b1f2ebd9.jpg',\n",
      "              '/cache/images/27/3288756727_67889c6e75.jpg',\n",
      "              '/cache/images/47/8503485347_c7612489f5.jpg',\n",
      "              '/cache/images/93/6370476793_217a4d7290.jpg'],\n",
      " 'ping_status': 'closed',\n",
      " 'pseudonym': 'abamb10',\n",
      " 'rating_count': '27',\n",
      " 'rating_sum': '58',\n",
      " 'reviewed': '1',\n",
      " 'slug': 'cookie-monsters-abc',\n",
      " 'sticky': False,\n",
      " 'tags': [],\n",
      " 'text': [\"Cookie Monster's ABC\",\n",
      "          \"Cookie Monster's ABC\",\n",
      "          'A is for almond cookies.',\n",
      "          'B is for blueberry cookies',\n",
      "          'C is for chocolate cookies.',\n",
      "          'D is for dunking cookie.',\n",
      "          'E is for Easter cookies.',\n",
      "          'F is for frog cookies.',\n",
      "          'G is for gingerbread man cookie.',\n",
      "          'H is for happy cookies.',\n",
      "          'I is for ice cream cookie.',\n",
      "          'J is for jam drop cookies.',\n",
      "          'K is for koala cookies.',\n",
      "          'L is for little cookies.',\n",
      "          'M is for M&amp;M cookies.',\n",
      "          'N is for Nutella cookies.',\n",
      "          'O is for oatmeal cookies.',\n",
      "          'P is for pink princess cookies.',\n",
      "          'Q is for Q cookie.',\n",
      "          'R is for rainbow cookies.',\n",
      "          'S is for sad cookie.',\n",
      "          'T is for turtle cookie.',\n",
      "          'U is for umbrella cookies.',\n",
      "          'V is for red velvet cookies.',\n",
      "          'W is for whale cookies.',\n",
      "          'X is for x-ray cookie.',\n",
      "          'Y is for yellow cookies.',\n",
      "          'Z is for zebra shoe cookies.'],\n",
      " 'title': 'Cookie Monster’s ABC',\n",
      " 'type': 'post'}\n"
     ]
    }
   ],
   "source": [
    "from pprint import pprint\n",
    "\n",
    "resp = requests.get('http://localhost:8000/wp-json/wp/v2/posts/451', auth=HTTPBasicAuth(userid, passwd))\n",
    "pprint(resp.json())"
   ]
  },
  {
   "cell_type": "code",
   "execution_count": 68,
   "metadata": {
    "collapsed": false
   },
   "outputs": [
    {
     "name": "stdout",
     "output_type": "stream",
     "text": [
      "{\"id\":8,\"date\":\"2016-08-14T20:01:55\",\"date_gmt\":\"2016-08-15T00:01:55\",\"guid\":{\"rendered\":\"http:\\/\\/localhost:8000\\/?p=8\",\"raw\":\"http:\\/\\/localhost:8000\\/?p=8\"},\"modified\":\"2016-08-16T12:44:06\",\"modified_gmt\":\"2016-08-16T16:44:06\",\"password\":\"\",\"slug\":\"test-book\",\"status\":\"publish\",\"type\":\"post\",\"link\":\"http:\\/\\/localhost:8000\\/2016\\/08\\/14\\/test-book\\/\",\"title\":{\"raw\":\"my new title\",\"rendered\":\"my new title\"},\"content\":[\"Now\",\"is\",\"the\",\"time.\"],\"excerpt\":{\"raw\":\"\",\"rendered\":\"<p>Now<\\/p>\\n\"},\"author\":1,\"featured_media\":0,\"comment_status\":\"open\",\"ping_status\":\"open\",\"sticky\":false,\"format\":\"standard\",\"categories\":[2,3],\"tags\":[4],\"language\":\"en\",\"images\":[\"Now\",\"is\",\"the\",\"time\"],\"_links\":{\"self\":[{\"href\":\"http:\\/\\/localhost:8000\\/wp-json\\/wp\\/v2\\/posts\\/8\"}],\"collection\":[{\"href\":\"http:\\/\\/localhost:8000\\/wp-json\\/wp\\/v2\\/posts\"}],\"about\":[{\"href\":\"http:\\/\\/localhost:8000\\/wp-json\\/wp\\/v2\\/types\\/post\"}],\"author\":[{\"embeddable\":true,\"href\":\"http:\\/\\/localhost:8000\\/wp-json\\/wp\\/v2\\/users\\/1\"}],\"replies\":[{\"embeddable\":true,\"href\":\"http:\\/\\/localhost:8000\\/wp-json\\/wp\\/v2\\/comments?post=8\"}],\"version-history\":[{\"href\":\"http:\\/\\/localhost:8000\\/wp-json\\/wp\\/v2\\/posts\\/8\\/revisions\"}],\"wp:attachment\":[{\"href\":\"http:\\/\\/localhost:8000\\/wp-json\\/wp\\/v2\\/media?parent=8\"}],\"wp:term\":[{\"taxonomy\":\"category\",\"embeddable\":true,\"href\":\"http:\\/\\/localhost:8000\\/wp-json\\/wp\\/v2\\/categories?post=8\"},{\"taxonomy\":\"post_tag\",\"embeddable\":true,\"href\":\"http:\\/\\/localhost:8000\\/wp-json\\/wp\\/v2\\/tags?post=8\"}],\"curies\":[{\"name\":\"wp\",\"href\":\"https:\\/\\/api.w.org\\/{rel}\",\"templated\":true}]}}\n"
     ]
    }
   ],
   "source": [
    "data = {\n",
    "    'images': ['Now', 'is', 'the', 'time']\n",
    "    }\n",
    "resp = requests.put('http://localhost:8000/wp-json/wp/v2/posts/8', json=data, auth=HTTPBasicAuth(userid, passwd))\n",
    "print(resp.text)"
   ]
  },
  {
   "cell_type": "code",
   "execution_count": 77,
   "metadata": {
    "collapsed": false
   },
   "outputs": [
    {
     "name": "stdout",
     "output_type": "stream",
     "text": [
      "{\"id\":8,\"date\":\"2016-08-14T20:01:55\",\"date_gmt\":\"2016-08-15T00:01:55\",\"guid\":{\"rendered\":\"http:\\/\\/localhost:8000\\/?p=8\"},\"modified\":\"2016-08-16T12:44:06\",\"modified_gmt\":\"2016-08-16T16:44:06\",\"slug\":\"test-book\",\"type\":\"post\",\"link\":\"http:\\/\\/localhost:8000\\/2016\\/08\\/14\\/test-book\\/\",\"title\":{\"rendered\":\"my new title\"},\"content\":[\"Now\",\"is\",\"the\",\"time.\"],\"excerpt\":{\"rendered\":\"<p>Now<\\/p>\\n\"},\"author\":1,\"featured_media\":0,\"comment_status\":\"open\",\"ping_status\":\"open\",\"sticky\":false,\"format\":\"standard\",\"categories\":[2,3],\"tags\":[4],\"language\":\"en\",\"images\":[\"Now\",\"is\",\"the\",\"time\"],\"_links\":{\"self\":[{\"href\":\"http:\\/\\/localhost:8000\\/wp-json\\/wp\\/v2\\/posts\\/8\"}],\"collection\":[{\"href\":\"http:\\/\\/localhost:8000\\/wp-json\\/wp\\/v2\\/posts\"}],\"about\":[{\"href\":\"http:\\/\\/localhost:8000\\/wp-json\\/wp\\/v2\\/types\\/post\"}],\"author\":[{\"embeddable\":true,\"href\":\"http:\\/\\/localhost:8000\\/wp-json\\/wp\\/v2\\/users\\/1\"}],\"replies\":[{\"embeddable\":true,\"href\":\"http:\\/\\/localhost:8000\\/wp-json\\/wp\\/v2\\/comments?post=8\"}],\"version-history\":[{\"href\":\"http:\\/\\/localhost:8000\\/wp-json\\/wp\\/v2\\/posts\\/8\\/revisions\"}],\"wp:attachment\":[{\"href\":\"http:\\/\\/localhost:8000\\/wp-json\\/wp\\/v2\\/media?parent=8\"}],\"wp:term\":[{\"taxonomy\":\"category\",\"embeddable\":true,\"href\":\"http:\\/\\/localhost:8000\\/wp-json\\/wp\\/v2\\/categories?post=8\"},{\"taxonomy\":\"post_tag\",\"embeddable\":true,\"href\":\"http:\\/\\/localhost:8000\\/wp-json\\/wp\\/v2\\/tags?post=8\"}],\"curies\":[{\"name\":\"wp\",\"href\":\"https:\\/\\/api.w.org\\/{rel}\",\"templated\":true}]}}\n",
      "{'_links': {'about': [{'href': 'http://localhost:8000/wp-json/wp/v2/types/post'}],\n",
      "            'author': [{'embeddable': True,\n",
      "                        'href': 'http://localhost:8000/wp-json/wp/v2/users/1'}],\n",
      "            'collection': [{'href': 'http://localhost:8000/wp-json/wp/v2/posts'}],\n",
      "            'curies': [{'href': 'https://api.w.org/{rel}',\n",
      "                        'name': 'wp',\n",
      "                        'templated': True}],\n",
      "            'replies': [{'embeddable': True,\n",
      "                         'href': 'http://localhost:8000/wp-json/wp/v2/comments?post=8'}],\n",
      "            'self': [{'href': 'http://localhost:8000/wp-json/wp/v2/posts/8'}],\n",
      "            'version-history': [{'href': 'http://localhost:8000/wp-json/wp/v2/posts/8/revisions'}],\n",
      "            'wp:attachment': [{'href': 'http://localhost:8000/wp-json/wp/v2/media?parent=8'}],\n",
      "            'wp:term': [{'embeddable': True,\n",
      "                         'href': 'http://localhost:8000/wp-json/wp/v2/categories?post=8',\n",
      "                         'taxonomy': 'category'},\n",
      "                        {'embeddable': True,\n",
      "                         'href': 'http://localhost:8000/wp-json/wp/v2/tags?post=8',\n",
      "                         'taxonomy': 'post_tag'}]},\n",
      " 'author': 1,\n",
      " 'categories': [2, 3],\n",
      " 'comment_status': 'open',\n",
      " 'content': ['Now', 'is', 'the', 'time.'],\n",
      " 'date': '2016-08-14T20:01:55',\n",
      " 'date_gmt': '2016-08-15T00:01:55',\n",
      " 'excerpt': {'rendered': '<p>Now</p>\\n'},\n",
      " 'featured_media': 0,\n",
      " 'format': 'standard',\n",
      " 'guid': {'rendered': 'http://localhost:8000/?p=8'},\n",
      " 'id': 8,\n",
      " 'images': ['Now', 'is', 'the', 'time'],\n",
      " 'language': 'en',\n",
      " 'link': 'http://localhost:8000/2016/08/14/test-book/',\n",
      " 'modified': '2016-08-16T12:44:06',\n",
      " 'modified_gmt': '2016-08-16T16:44:06',\n",
      " 'ping_status': 'open',\n",
      " 'slug': 'test-book',\n",
      " 'sticky': False,\n",
      " 'tags': [4],\n",
      " 'title': {'rendered': 'my new title'},\n",
      " 'type': 'post'}\n"
     ]
    }
   ],
   "source": [
    "from pprint import pprint\n",
    "resp = requests.get('http://localhost:8000/wp-json/wp/v2/posts/8')\n",
    "print(resp.text)\n",
    "pprint(resp.json())"
   ]
  },
  {
   "cell_type": "code",
   "execution_count": 92,
   "metadata": {
    "collapsed": false
   },
   "outputs": [
    {
     "name": "stdout",
     "output_type": "stream",
     "text": [
      "{\"title\":\"Horses\",\"author\":\"Mary Hobbs\",\"type\":\" \",\"audience\":\"E\",\"reviewed\":true,\"language\":\"en\",\"categories\":[\"Anim\"],\"tags\":[\"\"],\"pages\":[{\"text\":\"Horses\",\"url\":\"\\/cache\\/images\\/09\\/9103287209_67f31d4f71_t.jpg\",\"width\":100,\"height\":75},{\"text\":\"Horses\",\"url\":\"\\/cache\\/images\\/09\\/9103287209_67f31d4f71.jpg\",\"width\":500,\"height\":375},{\"text\":\"Horses come in many colors\",\"url\":\"\\/cache\\/images\\/24\\/43311724_28f21b3ba0.jpg\",\"width\":500,\"height\":333},{\"text\":\"and patterns.\",\"url\":\"\\/cache\\/images\\/60\\/6240747460_75e5cc597c.jpg\",\"width\":500,\"height\":375},{\"text\":\"Some horses grow thick coats for winter.\",\"url\":\"\\/cache\\/images\\/47\\/104635547_3660490d7f.jpg\",\"width\":500,\"height\":383},{\"text\":\"Some horses are big.\",\"url\":\"\\/cache\\/images\\/82\\/7512299482_9e2282919a.jpg\",\"width\":500,\"height\":374},{\"text\":\"Some horses run fast.\",\"url\":\"\\/cache\\/images\\/43\\/9158471643_06485bc8cc.jpg\",\"width\":500,\"height\":387},{\"text\":\"Some horses jump over fences.\",\"url\":\"\\/cache\\/images\\/47\\/5744039447_be22f59fa7.jpg\",\"width\":500,\"height\":407},{\"text\":\"Some horses work in big cities.\",\"url\":\"\\/cache\\/images\\/57\\/5543405357_fdef694614.jpg\",\"width\":340,\"height\":500},{\"text\":\"Some horses walk in parades.\",\"url\":\"\\/cache\\/images\\/76\\/3178812576_6026543dfd.jpg\",\"width\":500,\"height\":375},{\"text\":\"Some horses like to play.\",\"url\":\"\\/cache\\/images\\/43\\/6240460843_d16beb35fb.jpg\",\"width\":500,\"height\":333},{\"text\":\"Would you like to have a horse?\",\"url\":\"\\/cache\\/images\\/25\\/3528060125_e66f63a1a4.jpg\",\"width\":500,\"height\":332}],\"status\":\"publish\",\"ID\":157293,\"author_id\":\"26468\",\"rating_count\":30,\"rating_value\":2,\"rating_total\":66,\"modified\":\"2016-08-04 15:59:38\",\"created\":\"2016-08-03 15:35:06\",\"slug\":\"horses-103\",\"link\":\"\\/2016\\/08\\/03\\/horses-103\\/\",\"bust\":\"160408155938\"}\n",
      "{'ID': 157293,\n",
      " 'audience': 'E',\n",
      " 'author': 'Mary Hobbs',\n",
      " 'author_id': '26468',\n",
      " 'bust': '160408155938',\n",
      " 'categories': ['Anim'],\n",
      " 'created': '2016-08-03 15:35:06',\n",
      " 'language': 'en',\n",
      " 'link': '/2016/08/03/horses-103/',\n",
      " 'modified': '2016-08-04 15:59:38',\n",
      " 'pages': [{'height': 75,\n",
      "            'text': 'Horses',\n",
      "            'url': '/cache/images/09/9103287209_67f31d4f71_t.jpg',\n",
      "            'width': 100},\n",
      "           {'height': 375,\n",
      "            'text': 'Horses',\n",
      "            'url': '/cache/images/09/9103287209_67f31d4f71.jpg',\n",
      "            'width': 500},\n",
      "           {'height': 333,\n",
      "            'text': 'Horses come in many colors',\n",
      "            'url': '/cache/images/24/43311724_28f21b3ba0.jpg',\n",
      "            'width': 500},\n",
      "           {'height': 375,\n",
      "            'text': 'and patterns.',\n",
      "            'url': '/cache/images/60/6240747460_75e5cc597c.jpg',\n",
      "            'width': 500},\n",
      "           {'height': 383,\n",
      "            'text': 'Some horses grow thick coats for winter.',\n",
      "            'url': '/cache/images/47/104635547_3660490d7f.jpg',\n",
      "            'width': 500},\n",
      "           {'height': 374,\n",
      "            'text': 'Some horses are big.',\n",
      "            'url': '/cache/images/82/7512299482_9e2282919a.jpg',\n",
      "            'width': 500},\n",
      "           {'height': 387,\n",
      "            'text': 'Some horses run fast.',\n",
      "            'url': '/cache/images/43/9158471643_06485bc8cc.jpg',\n",
      "            'width': 500},\n",
      "           {'height': 407,\n",
      "            'text': 'Some horses jump over fences.',\n",
      "            'url': '/cache/images/47/5744039447_be22f59fa7.jpg',\n",
      "            'width': 500},\n",
      "           {'height': 500,\n",
      "            'text': 'Some horses work in big cities.',\n",
      "            'url': '/cache/images/57/5543405357_fdef694614.jpg',\n",
      "            'width': 340},\n",
      "           {'height': 375,\n",
      "            'text': 'Some horses walk in parades.',\n",
      "            'url': '/cache/images/76/3178812576_6026543dfd.jpg',\n",
      "            'width': 500},\n",
      "           {'height': 333,\n",
      "            'text': 'Some horses like to play.',\n",
      "            'url': '/cache/images/43/6240460843_d16beb35fb.jpg',\n",
      "            'width': 500},\n",
      "           {'height': 332,\n",
      "            'text': 'Would you like to have a horse?',\n",
      "            'url': '/cache/images/25/3528060125_e66f63a1a4.jpg',\n",
      "            'width': 500}],\n",
      " 'rating_count': 30,\n",
      " 'rating_total': 66,\n",
      " 'rating_value': 2,\n",
      " 'reviewed': True,\n",
      " 'slug': 'horses-103',\n",
      " 'status': 'publish',\n",
      " 'tags': [''],\n",
      " 'title': 'Horses',\n",
      " 'type': ' '}\n"
     ]
    }
   ],
   "source": [
    "resp = requests.get('http://tarheelreader.org/book-as-json/?slug=horses-103')\n",
    "print(resp.text)\n",
    "pprint(resp.json())"
   ]
  },
  {
   "cell_type": "code",
   "execution_count": 16,
   "metadata": {
    "collapsed": false
   },
   "outputs": [
    {
     "name": "stdout",
     "output_type": "stream",
     "text": [
      "('[{\"id\":433,\"date\":\"2016-08-03T11:35:06\",\"date_gmt\":\"2016-08-03T15:35:06\",\"guid\":{\"rendered\":\"http:\\\\/\\\\/localhost:8000\\\\/2016\\\\/08\\\\/03\\\\/horses\\\\/\"},\"modified\":\"2016-08-17T11:02:35\",\"modified_gmt\":\"2016-08-17T15:02:35\",\"slug\":\"horses\",\"type\":\"post\",\"link\":\"http:\\\\/\\\\/localhost:8000\\\\/2016\\\\/08\\\\/03\\\\/horses\\\\/\",\"title\":\"Horses\",\"content\":{\"rendered\":\"<p>Horses<br '\n",
      " '\\\\/>\\\\n<!--more--><br \\\\/>\\\\nHorses<br \\\\/>\\\\n<!--more--><br \\\\/>\\\\nHorses '\n",
      " 'come in many colors<br \\\\/>\\\\n<!--more--><br \\\\/>\\\\nand patterns.<br '\n",
      " '\\\\/>\\\\n<!--more--><br \\\\/>\\\\nSome horses grow thick coats for winter.<br '\n",
      " '\\\\/>\\\\n<!--more--><br \\\\/>\\\\nSome horses are big.<br \\\\/>\\\\n<!--more--><br '\n",
      " '\\\\/>\\\\nSome horses run fast.<br \\\\/>\\\\n<!--more--><br \\\\/>\\\\nSome horses '\n",
      " 'jump over fences.<br \\\\/>\\\\n<!--more--><br \\\\/>\\\\nSome horses work in big '\n",
      " 'cities.<br \\\\/>\\\\n<!--more--><br \\\\/>\\\\nSome horses walk in parades.<br '\n",
      " '\\\\/>\\\\n<!--more--><br \\\\/>\\\\nSome horses like to play.<br '\n",
      " '\\\\/>\\\\n<!--more--><br \\\\/>\\\\nWould you like to have a '\n",
      " 'horse?<\\\\/p>\\\\n\"},\"excerpt\":{\"rendered\":\"<p>Reed A. '\n",
      " 'Booke<\\\\/p>\\\\n\"},\"author\":1,\"featured_media\":0,\"comment_status\":\"closed\",\"ping_status\":\"closed\",\"sticky\":false,\"format\":\"standard\",\"categories\":[3],\"tags\":[],\"audience\":\"\",\"pictures\":[\"\\\\/cache\\\\/images\\\\/09\\\\/9103287209_67f31d4f71_t.jpg\",\"\\\\/cache\\\\/images\\\\/09\\\\/9103287209_67f31d4f71.jpg\",\"\\\\/cache\\\\/images\\\\/24\\\\/43311724_28f21b3ba0.jpg\",\"\\\\/cache\\\\/images\\\\/60\\\\/6240747460_75e5cc597c.jpg\",\"\\\\/cache\\\\/images\\\\/47\\\\/104635547_3660490d7f.jpg\",\"\\\\/cache\\\\/images\\\\/82\\\\/7512299482_9e2282919a.jpg\",\"\\\\/cache\\\\/images\\\\/43\\\\/9158471643_06485bc8cc.jpg\",\"\\\\/cache\\\\/images\\\\/47\\\\/5744039447_be22f59fa7.jpg\",\"\\\\/cache\\\\/images\\\\/57\\\\/5543405357_fdef694614.jpg\",\"\\\\/cache\\\\/images\\\\/76\\\\/3178812576_6026543dfd.jpg\",\"\\\\/cache\\\\/images\\\\/43\\\\/6240460843_d16beb35fb.jpg\",\"\\\\/cache\\\\/images\\\\/25\\\\/3528060125_e66f63a1a4.jpg\"],\"language\":\"en\",\"pseudonym\":\"Mary '\n",
      " 'Hobbs\",\"rating_count\":\"30\",\"rating_sum\":\"66\",\"reviewed\":\"1\",\"text\":[\"Horses\",\"Horses\",\"Horses '\n",
      " 'come in many colors\",\"and patterns.\",\"Some horses grow thick coats for '\n",
      " 'winter.\",\"Some horses are big.\",\"Some horses run fast.\",\"Some horses jump '\n",
      " 'over fences.\",\"Some horses work in big cities.\",\"Some horses walk in '\n",
      " 'parades.\",\"Some horses like to play.\",\"Would you like to have a '\n",
      " 'horse?\"],\"_links\":{\"self\":[{\"href\":\"http:\\\\/\\\\/localhost:8000\\\\/wp-json\\\\/wp\\\\/v2\\\\/posts\\\\/433\"}],\"collection\":[{\"href\":\"http:\\\\/\\\\/localhost:8000\\\\/wp-json\\\\/wp\\\\/v2\\\\/posts\"}],\"about\":[{\"href\":\"http:\\\\/\\\\/localhost:8000\\\\/wp-json\\\\/wp\\\\/v2\\\\/types\\\\/post\"}],\"author\":[{\"embeddable\":true,\"href\":\"http:\\\\/\\\\/localhost:8000\\\\/wp-json\\\\/wp\\\\/v2\\\\/users\\\\/1\"}],\"replies\":[{\"embeddable\":true,\"href\":\"http:\\\\/\\\\/localhost:8000\\\\/wp-json\\\\/wp\\\\/v2\\\\/comments?post=433\"}],\"version-history\":[{\"href\":\"http:\\\\/\\\\/localhost:8000\\\\/wp-json\\\\/wp\\\\/v2\\\\/posts\\\\/433\\\\/revisions\"}],\"wp:attachment\":[{\"href\":\"http:\\\\/\\\\/localhost:8000\\\\/wp-json\\\\/wp\\\\/v2\\\\/media?parent=433\"}],\"wp:term\":[{\"taxonomy\":\"category\",\"embeddable\":true,\"href\":\"http:\\\\/\\\\/localhost:8000\\\\/wp-json\\\\/wp\\\\/v2\\\\/categories?post=433\"},{\"taxonomy\":\"post_tag\",\"embeddable\":true,\"href\":\"http:\\\\/\\\\/localhost:8000\\\\/wp-json\\\\/wp\\\\/v2\\\\/tags?post=433\"}],\"curies\":[{\"name\":\"wp\",\"href\":\"https:\\\\/\\\\/api.w.org\\\\/{rel}\",\"templated\":true}]}}]')\n"
     ]
    }
   ],
   "source": [
    "query = {\n",
    "    'search': 'booke'\n",
    "    }\n",
    "resp = requests.get('http://localhost:8000/wp-json/wp/v2/posts', params=query)\n",
    "pprint(resp.text)"
   ]
  }
 ],
 "metadata": {
  "kernelspec": {
   "display_name": "Python 3",
   "language": "python",
   "name": "python3"
  },
  "language_info": {
   "codemirror_mode": {
    "name": "ipython",
    "version": 3
   },
   "file_extension": ".py",
   "mimetype": "text/x-python",
   "name": "python",
   "nbconvert_exporter": "python",
   "pygments_lexer": "ipython3",
   "version": "3.5.2"
  }
 },
 "nbformat": 4,
 "nbformat_minor": 0
}
